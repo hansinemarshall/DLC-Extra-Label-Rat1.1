{
 "cells": [
  {
   "cell_type": "code",
   "execution_count": 2,
   "id": "14fa9299",
   "metadata": {},
   "outputs": [],
   "source": [
    "import os\n",
    "import pandas as pd\n",
    "import numpy as np\n",
    "import matplotlib\n",
    "import matplotlib.pyplot as plt"
   ]
  },
  {
   "cell_type": "code",
   "execution_count": 3,
   "id": "4ac275e7",
   "metadata": {},
   "outputs": [],
   "source": [
    "def find_files(folder_path, file_extension):\n",
    "    csv_files = []\n",
    "\n",
    "    for csv_file in (os.scandir(folder_path)):\n",
    "        if csv_file.path.endswith(file_extension):\n",
    "            csv_files.append(csv_file)\n",
    "    \n",
    "    return csv_files"
   ]
  },
  {
   "cell_type": "code",
   "execution_count": 4,
   "id": "8a3c27b4",
   "metadata": {},
   "outputs": [],
   "source": [
    "def two_labels_behaviours(df):\n",
    "    \n",
    "    snout1 = df.iloc[3:,[1,2]]\n",
    "    rightear1 = df.iloc[3:,[4,5]]\n",
    "    leftear1 = df.iloc[3:,[7,8]]\n",
    "    dorsal1 = df.iloc[3:,[10,11]]\n",
    "    thoracic1 = df.iloc[3:,[13,14]]\n",
    "    lumbar1 = df.iloc[3:,[16,17]]\n",
    "    tail1 = df.iloc[3:,[19,20]]\n",
    "    snout2 = df.iloc[3:,[22,23]]\n",
    "    rightear2 = df.iloc[3:,[25,26]]\n",
    "    leftear2 = df.iloc[3:,[28,29]]\n",
    "    dorsal2 = df.iloc[3:,[31,32]]\n",
    "    thoracic2 = df.iloc[3:,[34,35]]\n",
    "    lumbar2 = df.iloc[3:,[37,38]]\n",
    "    tail2 = df.iloc[3:,[40,41]]\n",
    "    \n",
    "    #all combinations of behaviours of interest\n",
    "    two_labels = [[snout1, snout2], [snout1, rightear2], [snout1, leftear2], [snout1,dorsal2], [snout1,thoracic2], [snout1, lumbar2], [snout1, tail2] ,[rightear1, snout2], [leftear1, snout2], [dorsal1, snout2],  [thoracic1, snout2], [lumbar2, snout2], [tail1, snout2]] \n",
    "    plot_titles = [\"snout1, snout2\", \"snout1, rightear2\", \"snout1, leftear2\", \"snout1,dorsal2\", \"snout1,thoracic2\", \"snout1, lumbar2\", \"snout1, tail2\" ,\"rightear1, snout2\", \"leftear1, snout2\", \"dorsal1, snout2\",  \"thoracic1, snout2\", \"lumbar2, snout2\", \"tail1, snout2\"] \n",
    "    \n",
    "    return two_labels, plot_titles"
   ]
  },
  {
   "cell_type": "code",
   "execution_count": 5,
   "id": "02f6c3ca",
   "metadata": {},
   "outputs": [],
   "source": [
    "one_pixel = 0.102 #cm\n",
    "threshold = 2 #cm"
   ]
  },
  {
   "cell_type": "code",
   "execution_count": 127,
   "id": "6e3db240",
   "metadata": {},
   "outputs": [],
   "source": [
    "folder_list = [\"E8\", \"GAP\", \"WT\"] #folder names for each group\n",
    "dirname = r\"C:\\Users\\Hansine\\Genotype Groups\"\n",
    "csv_by_genotype = []\n",
    "results_by_genotype = []\n",
    "\n",
    "#looping through each folder to find csv_files\n",
    "for i, folder in enumerate(folder_list):\n",
    "    group_folder = dirname + \"\\\\\" + folder\n",
    "    current_group_files = find_files(group_folder, '.csv')\n",
    "    csv_by_genotype.append(current_group_files)\n",
    "    csv_dfs = []\n",
    "    #loop within folder to read group csv_files\n",
    "    for csv_files in current_group_files:\n",
    "        df = pd.read_csv(csv_files)\n",
    "        dfs_tuples_from_two_labels_combinations, plot_titles = two_labels_behaviours(df) #all coordinates of each combination per csv_file\n",
    "        \n",
    "        combinations_results = []\n",
    "        \n",
    "        #loop in csv_file to determine true interactions for each combination \n",
    "        for combination in dfs_tuples_from_two_labels_combinations:\n",
    "            distances = pd.concat([combination[0], combination[1]], axis=1) #create dataframe\n",
    "            distances['dist_pixels']=np.linalg.norm(combination[0].values.astype(float) - combination[1].values.astype(float), axis=1) #distance between body parts of interest\n",
    "            distances['dist_cm'] = distances['dist_pixels']*one_pixel #convert to cm\n",
    "            distances['interaction'] = distances['dist_cm']<threshold #apply threshold\n",
    "            interactions_true_table = distances.loc[distances[\"interaction\"]== True] #locate points below threshold\n",
    "            combinations_results.append(interactions_true_table)\n",
    "        \n",
    "        csv_dfs.append(combinations_results)\n",
    "        \n",
    "    results_by_genotype.append(csv_dfs) #true interactions for all csv_files sepearated into groups [0/1/2 i.e. E8/GAP/WT]"
   ]
  },
  {
   "cell_type": "code",
   "execution_count": 189,
   "id": "ce97c67c",
   "metadata": {},
   "outputs": [],
   "source": [
    "group_counts = [] # occassions where a combination happens in a group. [3groups][13combinations]\n",
    "# looping through each group\n",
    "for j, group_results in enumerate(results_by_genotype):\n",
    "    #print(\"group \", j)\n",
    "    results_per_group = np.zeros(len(results_by_genotype[0][0])) # array with the number of occurrencies of each combination\n",
    "    #looping through each csv per group\n",
    "    for i, csv_results in enumerate(group_results):\n",
    "        #print(\"csv \", i)\n",
    "        #looping through each combination for each combination per group\n",
    "        for k, combination in enumerate(csv_results):\n",
    "            #print(\"combination \", k)\n",
    "            results_per_group[k] = results_per_group[k] + len(combination)\n",
    "        \n",
    "    \n",
    "    group_counts.append(results_per_group)"
   ]
  },
  {
   "cell_type": "code",
   "execution_count": 190,
   "id": "5d385500",
   "metadata": {},
   "outputs": [
    {
     "data": {
      "text/plain": [
       "[array([  0.,  45.,  22.,  18.,  10., 391.,  16.,  40.,  43.,  19.,  15.,\n",
       "          0.,   1.]),\n",
       " array([  0.,  17.,  78.,  29.,  43., 550.,   8.,  17.,  39.,  25.,  27.,\n",
       "          0.,   0.]),\n",
       " array([  0.,  29.,  44.,  14.,  44., 502.,  13.,  36., 108.,  10.,  27.,\n",
       "          0.,  19.])]"
      ]
     },
     "execution_count": 190,
     "metadata": {},
     "output_type": "execute_result"
    }
   ],
   "source": [
    "group_counts"
   ]
  },
  {
   "cell_type": "markdown",
   "id": "d0f4792d",
   "metadata": {},
   "source": [
    "[group][csv_file][combination][xy coordinates of second_body_part]"
   ]
  },
  {
   "cell_type": "markdown",
   "id": "ca4aef63",
   "metadata": {},
   "source": [
    "### BarPlot"
   ]
  },
  {
   "cell_type": "code",
   "execution_count": 203,
   "id": "e44aa153",
   "metadata": {},
   "outputs": [
    {
     "data": {
      "text/plain": [
       "<BarContainer object of 13 artists>"
      ]
     },
     "execution_count": 203,
     "metadata": {},
     "output_type": "execute_result"
    },
    {
     "data": {
      "image/png": "[encoded data removed]",
      "text/plain": [
       "<Figure size 432x288 with 1 Axes>"
      ]
     },
     "metadata": {
      "needs_background": "light"
     },
     "output_type": "display_data"
    }
   ],
   "source": [
    "import numpy as np\n",
    "import matplotlib.pyplot as plt\n",
    "data = group_counts\n",
    "#x_values = [\"Snout-Snout\", \"Snout-RightEar\", \"Snout-LeftEar\", \"Snout-Dorsal\", \"Snout-Thoracic\", \"Snout-Lumbar\", \"Snout-Tail\", \"RightEar-Snout\", \"LeftEar-Snout\", \"Dorsal-Snout\", \"Thoracic-Snout\", \"Lumbar-Snout\", \"Tail-Snout\"]\n",
    "X = np.arange(13)\n",
    "fig = plt.figure()\n",
    "ax = fig.add_axes([0,0,1,1])\n",
    "plt.xlabel(\"Body Part Combinations\")\n",
    "plt.ylabel(\"No. of Interactions\")\n",
    "#plt.xticks(x_values)\n",
    "ax.bar(X + 0.00, data[0], color = 'b', width = 0.50)\n",
    "ax.bar(X + 0.25, data[1], color = 'g', width = 0.25)\n",
    "ax.bar(X + 0.50, data[2], color = 'r', width = 0.25)"
   ]
  },
  {
   "cell_type": "code",
   "execution_count": null,
   "id": "4c159cf6",
   "metadata": {},
   "outputs": [],
   "source": []
  }
 ],
 "metadata": {
  "kernelspec": {
   "display_name": "Python [conda env:DEEPLABCUT] *",
   "language": "python",
   "name": "conda-env-DEEPLABCUT-py"
  },
  "language_info": {
   "codemirror_mode": {
    "name": "ipython",
    "version": 3
   },
   "file_extension": ".py",
   "mimetype": "text/x-python",
   "name": "python",
   "nbconvert_exporter": "python",
   "pygments_lexer": "ipython3",
   "version": "3.8.12"
  }
 },
 "nbformat": 4,
 "nbformat_minor": 5
}
